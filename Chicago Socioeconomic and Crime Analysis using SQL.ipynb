{
 "cells": [
  {
   "cell_type": "code",
   "execution_count": 1,
   "metadata": {},
   "outputs": [],
   "source": [
    "%load_ext sql"
   ]
  },
  {
   "cell_type": "code",
   "execution_count": 2,
   "metadata": {},
   "outputs": [
    {
     "data": {
      "text/plain": [
       "'Connected: @None'"
      ]
     },
     "execution_count": 2,
     "metadata": {},
     "output_type": "execute_result"
    }
   ],
   "source": [
    "%sql sqlite://"
   ]
  },
  {
   "cell_type": "markdown",
   "metadata": {},
   "source": [
    "# Chicago Socioeconomic Data"
   ]
  },
  {
   "cell_type": "code",
   "execution_count": 3,
   "metadata": {},
   "outputs": [
    {
     "name": "stdout",
     "output_type": "stream",
     "text": [
      " * sqlite://\n"
     ]
    },
    {
     "data": {
      "text/plain": [
       "'Persisted chicago_socioeconomic_data'"
      ]
     },
     "execution_count": 3,
     "metadata": {},
     "output_type": "execute_result"
    }
   ],
   "source": [
    "import pandas\n",
    "chicago_socioeconomic_data = pandas.read_csv('Census_Data_-_Selected_socioeconomic_indicators_in_Chicago__2008___2012-v3.csv')\n",
    "%sql PERSIST chicago_socioeconomic_data"
   ]
  },
  {
   "cell_type": "code",
   "execution_count": 4,
   "metadata": {},
   "outputs": [
    {
     "name": "stdout",
     "output_type": "stream",
     "text": [
      " * sqlite://\n",
      "Done.\n"
     ]
    },
    {
     "data": {
      "text/html": [
       "<table>\n",
       "    <tr>\n",
       "        <th>index</th>\n",
       "        <th>COMMUNITY_AREA_NUMBER</th>\n",
       "        <th>COMMUNITY_AREA_NAME</th>\n",
       "        <th>PERCENT OF HOUSING CROWDED</th>\n",
       "        <th>PERCENT HOUSEHOLDS BELOW POVERTY</th>\n",
       "        <th>PERCENT AGED 16+ UNEMPLOYED</th>\n",
       "        <th>PERCENT AGED 25+ WITHOUT HIGH SCHOOL DIPLOMA</th>\n",
       "        <th>PERCENT AGED UNDER 18 OR OVER 64</th>\n",
       "        <th>PER_CAPITA_INCOME </th>\n",
       "        <th>HARDSHIP_INDEX</th>\n",
       "    </tr>\n",
       "    <tr>\n",
       "        <td>0</td>\n",
       "        <td>1</td>\n",
       "        <td>Rogers Park</td>\n",
       "        <td>7.7</td>\n",
       "        <td>23.6</td>\n",
       "        <td>8.7</td>\n",
       "        <td>18.2</td>\n",
       "        <td>27.5</td>\n",
       "        <td>23939</td>\n",
       "        <td>39</td>\n",
       "    </tr>\n",
       "    <tr>\n",
       "        <td>1</td>\n",
       "        <td>2</td>\n",
       "        <td>West Ridge</td>\n",
       "        <td>7.8</td>\n",
       "        <td>17.2</td>\n",
       "        <td>8.8</td>\n",
       "        <td>20.8</td>\n",
       "        <td>38.5</td>\n",
       "        <td>23040</td>\n",
       "        <td>46</td>\n",
       "    </tr>\n",
       "    <tr>\n",
       "        <td>2</td>\n",
       "        <td>3</td>\n",
       "        <td>Uptown</td>\n",
       "        <td>3.8</td>\n",
       "        <td>24.0</td>\n",
       "        <td>8.9</td>\n",
       "        <td>11.8</td>\n",
       "        <td>22.2</td>\n",
       "        <td>35787</td>\n",
       "        <td>20</td>\n",
       "    </tr>\n",
       "    <tr>\n",
       "        <td>3</td>\n",
       "        <td>4</td>\n",
       "        <td>Lincoln Square</td>\n",
       "        <td>3.4</td>\n",
       "        <td>10.9</td>\n",
       "        <td>8.2</td>\n",
       "        <td>13.4</td>\n",
       "        <td>25.5</td>\n",
       "        <td>37524</td>\n",
       "        <td>17</td>\n",
       "    </tr>\n",
       "    <tr>\n",
       "        <td>4</td>\n",
       "        <td>5</td>\n",
       "        <td>North Center</td>\n",
       "        <td>0.3</td>\n",
       "        <td>7.5</td>\n",
       "        <td>5.2</td>\n",
       "        <td>4.5</td>\n",
       "        <td>26.2</td>\n",
       "        <td>57123</td>\n",
       "        <td>6</td>\n",
       "    </tr>\n",
       "</table>"
      ],
      "text/plain": [
       "[(0, 1, 'Rogers Park', 7.7, 23.6, 8.7, '18.2', 27.5, 23939, '39'),\n",
       " (1, 2, 'West Ridge', 7.8, 17.2, 8.8, '20.8', 38.5, 23040, '46'),\n",
       " (2, 3, 'Uptown', 3.8, 24.0, 8.9, '11.8', 22.2, 35787, '20'),\n",
       " (3, 4, 'Lincoln Square', 3.4, 10.9, 8.2, '13.4', 25.5, 37524, '17'),\n",
       " (4, 5, 'North Center', 0.3, 7.5, 5.2, '4.5', 26.2, 57123, '6')]"
      ]
     },
     "execution_count": 4,
     "metadata": {},
     "output_type": "execute_result"
    }
   ],
   "source": [
    "%sql SELECT * FROM chicago_socioeconomic_data LIMIT 5;"
   ]
  },
  {
   "cell_type": "code",
   "execution_count": 5,
   "metadata": {},
   "outputs": [
    {
     "name": "stdout",
     "output_type": "stream",
     "text": [
      " * sqlite://\n",
      "Done.\n"
     ]
    },
    {
     "data": {
      "text/html": [
       "<table>\n",
       "    <tr>\n",
       "        <th>cid</th>\n",
       "        <th>name</th>\n",
       "        <th>type</th>\n",
       "        <th>notnull</th>\n",
       "        <th>dflt_value</th>\n",
       "        <th>pk</th>\n",
       "    </tr>\n",
       "    <tr>\n",
       "        <td>0</td>\n",
       "        <td>index</td>\n",
       "        <td>BIGINT</td>\n",
       "        <td>0</td>\n",
       "        <td>None</td>\n",
       "        <td>0</td>\n",
       "    </tr>\n",
       "    <tr>\n",
       "        <td>1</td>\n",
       "        <td>COMMUNITY_AREA_NUMBER</td>\n",
       "        <td>BIGINT</td>\n",
       "        <td>0</td>\n",
       "        <td>None</td>\n",
       "        <td>0</td>\n",
       "    </tr>\n",
       "    <tr>\n",
       "        <td>2</td>\n",
       "        <td>COMMUNITY_AREA_NAME</td>\n",
       "        <td>TEXT</td>\n",
       "        <td>0</td>\n",
       "        <td>None</td>\n",
       "        <td>0</td>\n",
       "    </tr>\n",
       "    <tr>\n",
       "        <td>3</td>\n",
       "        <td>PERCENT OF HOUSING CROWDED</td>\n",
       "        <td>FLOAT</td>\n",
       "        <td>0</td>\n",
       "        <td>None</td>\n",
       "        <td>0</td>\n",
       "    </tr>\n",
       "    <tr>\n",
       "        <td>4</td>\n",
       "        <td>PERCENT HOUSEHOLDS BELOW POVERTY</td>\n",
       "        <td>FLOAT</td>\n",
       "        <td>0</td>\n",
       "        <td>None</td>\n",
       "        <td>0</td>\n",
       "    </tr>\n",
       "    <tr>\n",
       "        <td>5</td>\n",
       "        <td>PERCENT AGED 16+ UNEMPLOYED</td>\n",
       "        <td>FLOAT</td>\n",
       "        <td>0</td>\n",
       "        <td>None</td>\n",
       "        <td>0</td>\n",
       "    </tr>\n",
       "    <tr>\n",
       "        <td>6</td>\n",
       "        <td>PERCENT AGED 25+ WITHOUT HIGH SCHOOL DIPLOMA</td>\n",
       "        <td>TEXT</td>\n",
       "        <td>0</td>\n",
       "        <td>None</td>\n",
       "        <td>0</td>\n",
       "    </tr>\n",
       "    <tr>\n",
       "        <td>7</td>\n",
       "        <td>PERCENT AGED UNDER 18 OR OVER 64</td>\n",
       "        <td>FLOAT</td>\n",
       "        <td>0</td>\n",
       "        <td>None</td>\n",
       "        <td>0</td>\n",
       "    </tr>\n",
       "    <tr>\n",
       "        <td>8</td>\n",
       "        <td>PER_CAPITA_INCOME </td>\n",
       "        <td>BIGINT</td>\n",
       "        <td>0</td>\n",
       "        <td>None</td>\n",
       "        <td>0</td>\n",
       "    </tr>\n",
       "    <tr>\n",
       "        <td>9</td>\n",
       "        <td>HARDSHIP_INDEX</td>\n",
       "        <td>TEXT</td>\n",
       "        <td>0</td>\n",
       "        <td>None</td>\n",
       "        <td>0</td>\n",
       "    </tr>\n",
       "</table>"
      ],
      "text/plain": [
       "[(0, 'index', 'BIGINT', 0, None, 0),\n",
       " (1, 'COMMUNITY_AREA_NUMBER', 'BIGINT', 0, None, 0),\n",
       " (2, 'COMMUNITY_AREA_NAME', 'TEXT', 0, None, 0),\n",
       " (3, 'PERCENT OF HOUSING CROWDED', 'FLOAT', 0, None, 0),\n",
       " (4, 'PERCENT HOUSEHOLDS BELOW POVERTY', 'FLOAT', 0, None, 0),\n",
       " (5, 'PERCENT AGED 16+ UNEMPLOYED', 'FLOAT', 0, None, 0),\n",
       " (6, 'PERCENT AGED 25+ WITHOUT HIGH SCHOOL DIPLOMA', 'TEXT', 0, None, 0),\n",
       " (7, 'PERCENT AGED UNDER 18 OR OVER 64', 'FLOAT', 0, None, 0),\n",
       " (8, 'PER_CAPITA_INCOME ', 'BIGINT', 0, None, 0),\n",
       " (9, 'HARDSHIP_INDEX', 'TEXT', 0, None, 0)]"
      ]
     },
     "execution_count": 5,
     "metadata": {},
     "output_type": "execute_result"
    }
   ],
   "source": [
    "%sql PRAGMA table_info(chicago_socioeconomic_data)"
   ]
  },
  {
   "cell_type": "markdown",
   "metadata": {},
   "source": [
    "As we can see **PERCENT AGED 25+ WITHOUT HIGH SCHOOL DIPLOMA** and **HARDSHIP_INDEX** supposed to be a FLOAT. Howeverm they are defined as a TEXT here. Let's check to find out the reasons. "
   ]
  },
  {
   "cell_type": "code",
   "execution_count": 6,
   "metadata": {},
   "outputs": [
    {
     "name": "stdout",
     "output_type": "stream",
     "text": [
      " * sqlite://\n",
      "Done.\n"
     ]
    },
    {
     "data": {
      "text/html": [
       "<table>\n",
       "    <tr>\n",
       "        <th>COMMUNITY_AREA_NUMBER</th>\n",
       "        <th>PERCENT AGED 25+ WITHOUT HIGH SCHOOL DIPLOMA</th>\n",
       "        <th>HARDSHIP_INDEX</th>\n",
       "        <th>data_type1</th>\n",
       "        <th>data_type2</th>\n",
       "    </tr>\n",
       "    <tr>\n",
       "        <td>8</td>\n",
       "        <td>2.5</td>\n",
       "        <td>A1</td>\n",
       "        <td>Number</td>\n",
       "        <td>Character</td>\n",
       "    </tr>\n",
       "    <tr>\n",
       "        <td>12</td>\n",
       "        <td>&lt; 4.9</td>\n",
       "        <td>11</td>\n",
       "        <td>Character</td>\n",
       "        <td>Number</td>\n",
       "    </tr>\n",
       "    <tr>\n",
       "        <td>15</td>\n",
       "        <td>Around 19.3%</td>\n",
       "        <td>35</td>\n",
       "        <td>Character</td>\n",
       "        <td>Number</td>\n",
       "    </tr>\n",
       "    <tr>\n",
       "        <td>20</td>\n",
       "        <td>41.6</td>\n",
       "        <td>BCD71</td>\n",
       "        <td>Number</td>\n",
       "        <td>Character</td>\n",
       "    </tr>\n",
       "</table>"
      ],
      "text/plain": [
       "[(8, '2.5', 'A1', 'Number', 'Character'),\n",
       " (12, '< 4.9', '11', 'Character', 'Number'),\n",
       " (15, 'Around 19.3%', '35', 'Character', 'Number'),\n",
       " (20, '41.6', 'BCD71', 'Number', 'Character')]"
      ]
     },
     "execution_count": 6,
     "metadata": {},
     "output_type": "execute_result"
    }
   ],
   "source": [
    "%%sql\n",
    "SELECT COMMUNITY_AREA_NUMBER, `PERCENT AGED 25+ WITHOUT HIGH SCHOOL DIPLOMA`, HARDSHIP_INDEX,\n",
    "CASE   \n",
    "    WHEN CAST(`PERCENT AGED 25+ WITHOUT HIGH SCHOOL DIPLOMA` AS INTEGER) THEN 'Number'\n",
    "    ELSE 'Character'\n",
    "END AS data_type1,\n",
    "CASE   \n",
    "    WHEN CAST(HARDSHIP_INDEX AS INTEGER) THEN 'Number'\n",
    "    ELSE 'Character'\n",
    "END AS data_type2\n",
    "from chicago_socioeconomic_data \n",
    "WHERE data_type1 = \"Character\" or data_type2 = \"Character\""
   ]
  },
  {
   "cell_type": "markdown",
   "metadata": {},
   "source": [
    "There are 4 problems here:\n",
    "- **COMMUNITY_AREA_NUMBER** 8 **HARDSHIP_INDEX** should be changed from A1 to 1\n",
    "- **COMMUNITY_AREA_NUMBER** 12 **PERCENT AGED 25+ WITHOUT HIGH SCHOOL DIPLOMA** should be changed from < 4.9 to 4.9\n",
    "- **COMMUNITY_AREA_NUMBER** 12 **PERCENT AGED 25+ WITHOUT HIGH SCHOOL DIPLOMA** should be changed from Around 19.3% to 19.3\n",
    "- **COMMUNITY_AREA_NUMBER** 8 **HARDSHIP_INDEX** should be changed from BCD71 to 71"
   ]
  },
  {
   "cell_type": "code",
   "execution_count": 7,
   "metadata": {},
   "outputs": [
    {
     "name": "stdout",
     "output_type": "stream",
     "text": [
      " * sqlite://\n",
      "77 rows affected.\n"
     ]
    },
    {
     "data": {
      "text/plain": [
       "[]"
      ]
     },
     "execution_count": 7,
     "metadata": {},
     "output_type": "execute_result"
    }
   ],
   "source": [
    "%%sql\n",
    "UPDATE chicago_socioeconomic_data SET\n",
    "HARDSHIP_INDEX = \n",
    "    CASE \n",
    "        WHEN COMMUNITY_AREA_NUMBER = 8 THEN 1 \n",
    "        WHEN COMMUNITY_AREA_NUMBER = 20 THEN 71 \n",
    "        ELSE HARDSHIP_INDEX END"
   ]
  },
  {
   "cell_type": "code",
   "execution_count": 8,
   "metadata": {},
   "outputs": [
    {
     "name": "stdout",
     "output_type": "stream",
     "text": [
      " * sqlite://\n",
      "77 rows affected.\n"
     ]
    },
    {
     "data": {
      "text/plain": [
       "[]"
      ]
     },
     "execution_count": 8,
     "metadata": {},
     "output_type": "execute_result"
    }
   ],
   "source": [
    "%%sql\n",
    "UPDATE chicago_socioeconomic_data SET\n",
    "`PERCENT AGED 25+ WITHOUT HIGH SCHOOL DIPLOMA` = \n",
    "    CASE \n",
    "        WHEN COMMUNITY_AREA_NUMBER = 12 THEN 4.9 \n",
    "        WHEN COMMUNITY_AREA_NUMBER = 15 THEN 19.3 \n",
    "        ELSE `PERCENT AGED 25+ WITHOUT HIGH SCHOOL DIPLOMA` END"
   ]
  },
  {
   "cell_type": "markdown",
   "metadata": {},
   "source": [
    "Let's check to see whether these 4 rows have been corrected"
   ]
  },
  {
   "cell_type": "code",
   "execution_count": 9,
   "metadata": {},
   "outputs": [
    {
     "name": "stdout",
     "output_type": "stream",
     "text": [
      " * sqlite://\n",
      "Done.\n"
     ]
    },
    {
     "data": {
      "text/html": [
       "<table>\n",
       "    <tr>\n",
       "        <th>COMMUNITY_AREA_NUMBER</th>\n",
       "        <th>PERCENT AGED 25+ WITHOUT HIGH SCHOOL DIPLOMA</th>\n",
       "        <th>HARDSHIP_INDEX</th>\n",
       "    </tr>\n",
       "    <tr>\n",
       "        <td>8</td>\n",
       "        <td>2.5</td>\n",
       "        <td>1</td>\n",
       "    </tr>\n",
       "    <tr>\n",
       "        <td>12</td>\n",
       "        <td>4.9</td>\n",
       "        <td>11</td>\n",
       "    </tr>\n",
       "    <tr>\n",
       "        <td>15</td>\n",
       "        <td>19.3</td>\n",
       "        <td>35</td>\n",
       "    </tr>\n",
       "    <tr>\n",
       "        <td>20</td>\n",
       "        <td>41.6</td>\n",
       "        <td>71</td>\n",
       "    </tr>\n",
       "</table>"
      ],
      "text/plain": [
       "[(8, '2.5', '1'), (12, '4.9', '11'), (15, '19.3', '35'), (20, '41.6', '71')]"
      ]
     },
     "execution_count": 9,
     "metadata": {},
     "output_type": "execute_result"
    }
   ],
   "source": [
    "%%sql \n",
    "SELECT COMMUNITY_AREA_NUMBER, `PERCENT AGED 25+ WITHOUT HIGH SCHOOL DIPLOMA`, HARDSHIP_INDEX \n",
    "FROM chicago_socioeconomic_data\n",
    "WHERE COMMUNITY_AREA_NUMBER IN (8,12,15,20)"
   ]
  },
  {
   "cell_type": "markdown",
   "metadata": {},
   "source": [
    "We are going to check the MAX and MIN of every numeric column to see whether there is any weird values."
   ]
  },
  {
   "cell_type": "code",
   "execution_count": 10,
   "metadata": {},
   "outputs": [
    {
     "name": "stdout",
     "output_type": "stream",
     "text": [
      " * sqlite://\n",
      "Done.\n"
     ]
    },
    {
     "data": {
      "text/html": [
       "<table>\n",
       "    <tr>\n",
       "        <th>PERCENT OF HOUSING CROWDED</th>\n",
       "        <th>PERCENT HOUSEHOLDS BELOW POVERTY</th>\n",
       "        <th>PERCENT AGED 16+ UNEMPLOYED</th>\n",
       "        <th>PERCENT AGED 25+ WITHOUT HIGH SCHOOL DIPLOMA</th>\n",
       "        <th>PERCENT AGED UNDER 18 OR OVER 64</th>\n",
       "        <th>PER_CAPITA_INCOME </th>\n",
       "        <th>HARDSHIP_INDEX</th>\n",
       "    </tr>\n",
       "    <tr>\n",
       "        <td>15.8</td>\n",
       "        <td>56.5</td>\n",
       "        <td>100.0</td>\n",
       "        <td>9.7</td>\n",
       "        <td>51.5</td>\n",
       "        <td>1093400000</td>\n",
       "        <td>98</td>\n",
       "    </tr>\n",
       "    <tr>\n",
       "        <td>0.3</td>\n",
       "        <td>-42.4</td>\n",
       "        <td>4.7</td>\n",
       "        <td>10.6</td>\n",
       "        <td>13.5</td>\n",
       "        <td>8201</td>\n",
       "        <td>1</td>\n",
       "    </tr>\n",
       "</table>"
      ],
      "text/plain": [
       "[(15.8, 56.5, 100.0, '9.7', 51.5, 1093400000, '98'),\n",
       " (0.3, -42.4, 4.7, '10.6', 13.5, 8201, '1')]"
      ]
     },
     "execution_count": 10,
     "metadata": {},
     "output_type": "execute_result"
    }
   ],
   "source": [
    "%%sql\n",
    "SELECT MAX(`PERCENT OF HOUSING CROWDED`) AS `PERCENT OF HOUSING CROWDED`, \n",
    "       MAX(`PERCENT HOUSEHOLDS BELOW POVERTY`) AS `PERCENT HOUSEHOLDS BELOW POVERTY`, \n",
    "       MAX(`PERCENT AGED 16+ UNEMPLOYED`) AS `PERCENT AGED 16+ UNEMPLOYED`, \n",
    "       MAX(`PERCENT AGED 25+ WITHOUT HIGH SCHOOL DIPLOMA`) AS `PERCENT AGED 25+ WITHOUT HIGH SCHOOL DIPLOMA`,\n",
    "       MAX(`PERCENT AGED UNDER 18 OR OVER 64`) AS `PERCENT AGED UNDER 18 OR OVER 64`, \n",
    "       MAX(`PER_CAPITA_INCOME `) AS `PER_CAPITA_INCOME `, \n",
    "       MAX(HARDSHIP_INDEX) AS HARDSHIP_INDEX\n",
    "FROM chicago_socioeconomic_data\n",
    "UNION ALL\n",
    "SELECT MIN(`PERCENT OF HOUSING CROWDED`), MIN(`PERCENT HOUSEHOLDS BELOW POVERTY`), \n",
    "       MIN(`PERCENT AGED 16+ UNEMPLOYED`), MIN(`PERCENT AGED 25+ WITHOUT HIGH SCHOOL DIPLOMA`),\n",
    "       MIN(`PERCENT AGED UNDER 18 OR OVER 64`), MIN(`PER_CAPITA_INCOME `), MIN(HARDSHIP_INDEX)\n",
    "FROM chicago_socioeconomic_data"
   ]
  },
  {
   "cell_type": "markdown",
   "metadata": {},
   "source": [
    "There are definitely some weird values in here. \n",
    "- **PERCENT HOUSEHOLDS BELOW POVERTY** cannot be negative, probably it is 42.4 instead of -42.4. To make sure there is no other negative values, I am going to check this column.\n",
    "- **PERCENT AGED 16+ UNEMPLOYED** is very unlikely to be 100, probably it is 10\n",
    "- **PER_CAPITA_INCOME** max value is 1093400000 which is impossible, most likely it is 10934. In addition, from my knowledge, **PER_CAPITA_INCOME** is certainly lower than 100,000. I will take a look once again at this column to ensure all the data is correct.\t"
   ]
  },
  {
   "cell_type": "code",
   "execution_count": 11,
   "metadata": {},
   "outputs": [
    {
     "name": "stdout",
     "output_type": "stream",
     "text": [
      " * sqlite://\n",
      "Done.\n"
     ]
    },
    {
     "data": {
      "text/html": [
       "<table>\n",
       "    <tr>\n",
       "        <th>index</th>\n",
       "        <th>COMMUNITY_AREA_NUMBER</th>\n",
       "        <th>COMMUNITY_AREA_NAME</th>\n",
       "        <th>PERCENT OF HOUSING CROWDED</th>\n",
       "        <th>PERCENT HOUSEHOLDS BELOW POVERTY</th>\n",
       "        <th>PERCENT AGED 16+ UNEMPLOYED</th>\n",
       "        <th>PERCENT AGED 25+ WITHOUT HIGH SCHOOL DIPLOMA</th>\n",
       "        <th>PERCENT AGED UNDER 18 OR OVER 64</th>\n",
       "        <th>PER_CAPITA_INCOME </th>\n",
       "        <th>HARDSHIP_INDEX</th>\n",
       "    </tr>\n",
       "    <tr>\n",
       "        <td>13</td>\n",
       "        <td>14</td>\n",
       "        <td>Albany Park</td>\n",
       "        <td>11.3</td>\n",
       "        <td>-19.2</td>\n",
       "        <td>10.0</td>\n",
       "        <td>32.9</td>\n",
       "        <td>32.0</td>\n",
       "        <td>21323</td>\n",
       "        <td>53</td>\n",
       "    </tr>\n",
       "    <tr>\n",
       "        <td>26</td>\n",
       "        <td>27</td>\n",
       "        <td>East Garfield Park</td>\n",
       "        <td>8.2</td>\n",
       "        <td>-42.4</td>\n",
       "        <td>19.6</td>\n",
       "        <td>21.3</td>\n",
       "        <td>43.2</td>\n",
       "        <td>12961</td>\n",
       "        <td>83</td>\n",
       "    </tr>\n",
       "</table>"
      ],
      "text/plain": [
       "[(13, 14, 'Albany Park', 11.3, -19.2, 10.0, '32.9', 32.0, 21323, '53'),\n",
       " (26, 27, 'East Garfield Park', 8.2, -42.4, 19.6, '21.3', 43.2, 12961, '83')]"
      ]
     },
     "execution_count": 11,
     "metadata": {},
     "output_type": "execute_result"
    }
   ],
   "source": [
    "%%sql\n",
    "SELECT * FROM chicago_socioeconomic_data\n",
    "WHERE `PERCENT HOUSEHOLDS BELOW POVERTY` <= 0"
   ]
  },
  {
   "cell_type": "markdown",
   "metadata": {},
   "source": [
    "There is a row another row with negative value. It is most likely to be 19.2 instead of -19.2"
   ]
  },
  {
   "cell_type": "code",
   "execution_count": 12,
   "metadata": {},
   "outputs": [
    {
     "name": "stdout",
     "output_type": "stream",
     "text": [
      " * sqlite://\n",
      "Done.\n"
     ]
    },
    {
     "data": {
      "text/html": [
       "<table>\n",
       "    <tr>\n",
       "        <th>index</th>\n",
       "        <th>COMMUNITY_AREA_NUMBER</th>\n",
       "        <th>COMMUNITY_AREA_NAME</th>\n",
       "        <th>PERCENT OF HOUSING CROWDED</th>\n",
       "        <th>PERCENT HOUSEHOLDS BELOW POVERTY</th>\n",
       "        <th>PERCENT AGED 16+ UNEMPLOYED</th>\n",
       "        <th>PERCENT AGED 25+ WITHOUT HIGH SCHOOL DIPLOMA</th>\n",
       "        <th>PERCENT AGED UNDER 18 OR OVER 64</th>\n",
       "        <th>PER_CAPITA_INCOME </th>\n",
       "        <th>HARDSHIP_INDEX</th>\n",
       "    </tr>\n",
       "    <tr>\n",
       "        <td>15</td>\n",
       "        <td>16</td>\n",
       "        <td>Irving Park</td>\n",
       "        <td>6.3</td>\n",
       "        <td>13.1</td>\n",
       "        <td>10.0</td>\n",
       "        <td>22.4</td>\n",
       "        <td>31.6</td>\n",
       "        <td>27249000</td>\n",
       "        <td>34</td>\n",
       "    </tr>\n",
       "    <tr>\n",
       "        <td>25</td>\n",
       "        <td>26</td>\n",
       "        <td>West Garfield Park</td>\n",
       "        <td>9.4</td>\n",
       "        <td>41.7</td>\n",
       "        <td>25.8</td>\n",
       "        <td>24.5</td>\n",
       "        <td>43.6</td>\n",
       "        <td>1093400000</td>\n",
       "        <td>92</td>\n",
       "    </tr>\n",
       "</table>"
      ],
      "text/plain": [
       "[(15, 16, 'Irving Park', 6.3, 13.1, 10.0, '22.4', 31.6, 27249000, '34'),\n",
       " (25, 26, 'West Garfield Park', 9.4, 41.7, 25.8, '24.5', 43.6, 1093400000, '92')]"
      ]
     },
     "execution_count": 12,
     "metadata": {},
     "output_type": "execute_result"
    }
   ],
   "source": [
    "%%sql\n",
    "SELECT * FROM chicago_socioeconomic_data\n",
    "WHERE `PER_CAPITA_INCOME ` > 100000"
   ]
  },
  {
   "cell_type": "markdown",
   "metadata": {},
   "source": [
    "There is another row with wrong **PER_CAPITA_INCOME** value, it should be 27249 instead of 27249000. We are going to fix all these errors before getting insights.\t"
   ]
  },
  {
   "cell_type": "code",
   "execution_count": 13,
   "metadata": {},
   "outputs": [
    {
     "name": "stdout",
     "output_type": "stream",
     "text": [
      " * sqlite://\n",
      "77 rows affected.\n"
     ]
    },
    {
     "data": {
      "text/plain": [
       "[]"
      ]
     },
     "execution_count": 13,
     "metadata": {},
     "output_type": "execute_result"
    }
   ],
   "source": [
    "%%sql\n",
    "UPDATE chicago_socioeconomic_data SET\n",
    "`PERCENT HOUSEHOLDS BELOW POVERTY` = \n",
    "    CASE \n",
    "        WHEN `PERCENT HOUSEHOLDS BELOW POVERTY` = -42.4 THEN 42.4\n",
    "        WHEN `PERCENT HOUSEHOLDS BELOW POVERTY` = -19.2 THEN 19.2\n",
    "        ELSE `PERCENT HOUSEHOLDS BELOW POVERTY` END"
   ]
  },
  {
   "cell_type": "code",
   "execution_count": 14,
   "metadata": {},
   "outputs": [
    {
     "name": "stdout",
     "output_type": "stream",
     "text": [
      " * sqlite://\n",
      "77 rows affected.\n"
     ]
    },
    {
     "data": {
      "text/plain": [
       "[]"
      ]
     },
     "execution_count": 14,
     "metadata": {},
     "output_type": "execute_result"
    }
   ],
   "source": [
    "%%sql\n",
    "UPDATE chicago_socioeconomic_data SET\n",
    "`PERCENT AGED 16+ UNEMPLOYED` = \n",
    "    CASE \n",
    "        WHEN `PERCENT AGED 16+ UNEMPLOYED` = 100 THEN 10\n",
    "        ELSE `PERCENT AGED 16+ UNEMPLOYED` END"
   ]
  },
  {
   "cell_type": "code",
   "execution_count": 15,
   "metadata": {},
   "outputs": [
    {
     "name": "stdout",
     "output_type": "stream",
     "text": [
      " * sqlite://\n",
      "77 rows affected.\n"
     ]
    },
    {
     "data": {
      "text/plain": [
       "[]"
      ]
     },
     "execution_count": 15,
     "metadata": {},
     "output_type": "execute_result"
    }
   ],
   "source": [
    "%%sql\n",
    "UPDATE chicago_socioeconomic_data SET\n",
    "`PER_CAPITA_INCOME ` =\n",
    "    CASE\n",
    "        WHEN `PER_CAPITA_INCOME ` = 27249000 THEN 27249\n",
    "        WHEN `PER_CAPITA_INCOME ` = 1093400000 THEN 10934\n",
    "        ELSE `PER_CAPITA_INCOME ` END"
   ]
  },
  {
   "cell_type": "markdown",
   "metadata": {},
   "source": [
    "### 1. How many rows in the dataset ?"
   ]
  },
  {
   "cell_type": "code",
   "execution_count": 16,
   "metadata": {},
   "outputs": [
    {
     "name": "stdout",
     "output_type": "stream",
     "text": [
      " * sqlite://\n",
      "Done.\n"
     ]
    },
    {
     "data": {
      "text/html": [
       "<table>\n",
       "    <tr>\n",
       "        <th>no_of_rows</th>\n",
       "    </tr>\n",
       "    <tr>\n",
       "        <td>77</td>\n",
       "    </tr>\n",
       "</table>"
      ],
      "text/plain": [
       "[(77,)]"
      ]
     },
     "execution_count": 16,
     "metadata": {},
     "output_type": "execute_result"
    }
   ],
   "source": [
    "%%sql \n",
    "SELECT COUNT(*) AS no_of_rows FROM chicago_socioeconomic_data ; "
   ]
  },
  {
   "cell_type": "markdown",
   "metadata": {},
   "source": [
    "### 2. How many community areas in Chicago have a hardship index greater than 50.0?"
   ]
  },
  {
   "cell_type": "code",
   "execution_count": 17,
   "metadata": {},
   "outputs": [
    {
     "name": "stdout",
     "output_type": "stream",
     "text": [
      " * sqlite://\n",
      "Done.\n"
     ]
    },
    {
     "data": {
      "text/html": [
       "<table>\n",
       "    <tr>\n",
       "        <th>COUNT(community_area_name)</th>\n",
       "    </tr>\n",
       "    <tr>\n",
       "        <td>41</td>\n",
       "    </tr>\n",
       "</table>"
      ],
      "text/plain": [
       "[(41,)]"
      ]
     },
     "execution_count": 17,
     "metadata": {},
     "output_type": "execute_result"
    }
   ],
   "source": [
    "%%sql\n",
    "SELECT COUNT(community_area_name) FROM chicago_socioeconomic_data\n",
    "WHERE hardship_index > 50;"
   ]
  },
  {
   "cell_type": "markdown",
   "metadata": {},
   "source": [
    "### 3. What is the maximum value of hardship index in this dataset?"
   ]
  },
  {
   "cell_type": "code",
   "execution_count": 18,
   "metadata": {},
   "outputs": [
    {
     "name": "stdout",
     "output_type": "stream",
     "text": [
      " * sqlite://\n",
      "Done.\n"
     ]
    },
    {
     "data": {
      "text/html": [
       "<table>\n",
       "    <tr>\n",
       "        <th>MAX(hardship_index)</th>\n",
       "    </tr>\n",
       "    <tr>\n",
       "        <td>98</td>\n",
       "    </tr>\n",
       "</table>"
      ],
      "text/plain": [
       "[('98',)]"
      ]
     },
     "execution_count": 18,
     "metadata": {},
     "output_type": "execute_result"
    }
   ],
   "source": [
    "%%sql\n",
    "SELECT MAX(hardship_index) FROM chicago_socioeconomic_data;"
   ]
  },
  {
   "cell_type": "markdown",
   "metadata": {},
   "source": [
    "### 4. Which community area which has the highest percent households below poverty ? "
   ]
  },
  {
   "cell_type": "code",
   "execution_count": 19,
   "metadata": {},
   "outputs": [
    {
     "name": "stdout",
     "output_type": "stream",
     "text": [
      " * sqlite://\n",
      "Done.\n"
     ]
    },
    {
     "data": {
      "text/html": [
       "<table>\n",
       "    <tr>\n",
       "        <th>COMMUNITY_AREA_NAME</th>\n",
       "    </tr>\n",
       "    <tr>\n",
       "        <td>Riverdale</td>\n",
       "    </tr>\n",
       "</table>"
      ],
      "text/plain": [
       "[('Riverdale',)]"
      ]
     },
     "execution_count": 19,
     "metadata": {},
     "output_type": "execute_result"
    }
   ],
   "source": [
    "%%sql\n",
    "SELECT community_area_name FROM chicago_socioeconomic_data\n",
    "WHERE `PERCENT HOUSEHOLDS BELOW POVERTY` = \n",
    "(SELECT MAX(`PERCENT HOUSEHOLDS BELOW POVERTY`) FROM chicago_socioeconomic_data)"
   ]
  },
  {
   "cell_type": "markdown",
   "metadata": {},
   "source": [
    "### 5. Which community area has \"Park\" in its name ?"
   ]
  },
  {
   "cell_type": "code",
   "execution_count": 20,
   "metadata": {},
   "outputs": [
    {
     "name": "stdout",
     "output_type": "stream",
     "text": [
      " * sqlite://\n",
      "Done.\n"
     ]
    },
    {
     "data": {
      "text/html": [
       "<table>\n",
       "    <tr>\n",
       "        <th>COMMUNITY_AREA_NAME</th>\n",
       "    </tr>\n",
       "    <tr>\n",
       "        <td>Rogers Park</td>\n",
       "    </tr>\n",
       "    <tr>\n",
       "        <td>Lincoln Park</td>\n",
       "    </tr>\n",
       "    <tr>\n",
       "        <td>Edison Park</td>\n",
       "    </tr>\n",
       "    <tr>\n",
       "        <td>Norwood Park</td>\n",
       "    </tr>\n",
       "    <tr>\n",
       "        <td>Jefferson Park</td>\n",
       "    </tr>\n",
       "    <tr>\n",
       "        <td>North Park</td>\n",
       "    </tr>\n",
       "    <tr>\n",
       "        <td>Albany Park</td>\n",
       "    </tr>\n",
       "    <tr>\n",
       "        <td>Portage Park</td>\n",
       "    </tr>\n",
       "    <tr>\n",
       "        <td>Irving Park</td>\n",
       "    </tr>\n",
       "    <tr>\n",
       "        <td>Humboldt park</td>\n",
       "    </tr>\n",
       "    <tr>\n",
       "        <td>West Garfield Park</td>\n",
       "    </tr>\n",
       "    <tr>\n",
       "        <td>East Garfield Park</td>\n",
       "    </tr>\n",
       "    <tr>\n",
       "        <td>Fuller Park</td>\n",
       "    </tr>\n",
       "    <tr>\n",
       "        <td>Washington Park</td>\n",
       "    </tr>\n",
       "    <tr>\n",
       "        <td>Hyde Park</td>\n",
       "    </tr>\n",
       "    <tr>\n",
       "        <td>Avalon Park</td>\n",
       "    </tr>\n",
       "    <tr>\n",
       "        <td>Brighton Park</td>\n",
       "    </tr>\n",
       "    <tr>\n",
       "        <td>McKinley Park</td>\n",
       "    </tr>\n",
       "    <tr>\n",
       "        <td>Gage Park</td>\n",
       "    </tr>\n",
       "    <tr>\n",
       "        <td>Morgan Park</td>\n",
       "    </tr>\n",
       "</table>"
      ],
      "text/plain": [
       "[('Rogers Park',),\n",
       " ('Lincoln Park',),\n",
       " ('Edison Park',),\n",
       " ('Norwood Park',),\n",
       " ('Jefferson Park',),\n",
       " ('North Park',),\n",
       " ('Albany Park',),\n",
       " ('Portage Park',),\n",
       " ('Irving Park',),\n",
       " ('Humboldt park',),\n",
       " ('West Garfield Park',),\n",
       " ('East Garfield Park',),\n",
       " ('Fuller Park',),\n",
       " ('Washington Park',),\n",
       " ('Hyde Park',),\n",
       " ('Avalon Park',),\n",
       " ('Brighton Park',),\n",
       " ('McKinley Park',),\n",
       " ('Gage Park',),\n",
       " ('Morgan Park',)]"
      ]
     },
     "execution_count": 20,
     "metadata": {},
     "output_type": "execute_result"
    }
   ],
   "source": [
    "%%sql\n",
    "SELECT community_area_name FROM chicago_socioeconomic_data\n",
    "WHERE community_area_name LIKE '%Park%'"
   ]
  },
  {
   "cell_type": "markdown",
   "metadata": {},
   "source": [
    "# Chicago Crime Data"
   ]
  },
  {
   "cell_type": "code",
   "execution_count": 21,
   "metadata": {},
   "outputs": [
    {
     "name": "stdout",
     "output_type": "stream",
     "text": [
      " * sqlite://\n"
     ]
    },
    {
     "data": {
      "text/plain": [
       "'Persisted chicago_crime_data'"
      ]
     },
     "execution_count": 21,
     "metadata": {},
     "output_type": "execute_result"
    }
   ],
   "source": [
    "chicago_crime_data = pandas.read_csv('Chicago_Crime_Data-v2.csv')\n",
    "%sql PERSIST chicago_crime_data"
   ]
  },
  {
   "cell_type": "code",
   "execution_count": 22,
   "metadata": {},
   "outputs": [
    {
     "name": "stdout",
     "output_type": "stream",
     "text": [
      " * sqlite://\n",
      "Done.\n"
     ]
    },
    {
     "data": {
      "text/html": [
       "<table>\n",
       "    <tr>\n",
       "        <th>index</th>\n",
       "        <th>ID</th>\n",
       "        <th>CASE_NUMBER</th>\n",
       "        <th>DATE</th>\n",
       "        <th>BLOCK</th>\n",
       "        <th>IUCR</th>\n",
       "        <th>PRIMARY_TYPE</th>\n",
       "        <th>DESCRIPTION</th>\n",
       "        <th>LOCATION_DESCRIPTION</th>\n",
       "        <th>ARREST</th>\n",
       "        <th>DOMESTIC</th>\n",
       "        <th>BEAT</th>\n",
       "        <th>DISTRICT</th>\n",
       "        <th>WARD</th>\n",
       "        <th>COMMUNITY_AREA_NUMBER</th>\n",
       "        <th>FBICODE</th>\n",
       "        <th>X_COORDINATE</th>\n",
       "        <th>Y_COORDINATE</th>\n",
       "        <th>YEAR</th>\n",
       "        <th>UPDATEDON</th>\n",
       "        <th>LATITUDE</th>\n",
       "        <th>LONGITUDE</th>\n",
       "        <th>LOCATION</th>\n",
       "    </tr>\n",
       "    <tr>\n",
       "        <td>0</td>\n",
       "        <td>3512276</td>\n",
       "        <td>HK587712</td>\n",
       "        <td>08/28/2004 05:50:56 PM</td>\n",
       "        <td>047XX S KEDZIE AVE</td>\n",
       "        <td>890</td>\n",
       "        <td>THEFT</td>\n",
       "        <td>FROM BUILDING</td>\n",
       "        <td>SMALL RETAIL STORE</td>\n",
       "        <td>0</td>\n",
       "        <td>0</td>\n",
       "        <td>911</td>\n",
       "        <td>9</td>\n",
       "        <td>14.0</td>\n",
       "        <td>58.0</td>\n",
       "        <td>6</td>\n",
       "        <td>1155838.0</td>\n",
       "        <td>1873050.0</td>\n",
       "        <td>2004</td>\n",
       "        <td>02/10/2018 03:50:01 PM</td>\n",
       "        <td>41.807440500000006</td>\n",
       "        <td>-87.70395585</td>\n",
       "        <td>(41.8074405, -87.703955849)</td>\n",
       "    </tr>\n",
       "    <tr>\n",
       "        <td>1</td>\n",
       "        <td>3406613</td>\n",
       "        <td>HK456306</td>\n",
       "        <td>06/26/2004 12:40:00 PM</td>\n",
       "        <td>009XX N CENTRAL PARK AVE</td>\n",
       "        <td>820</td>\n",
       "        <td>THEFT</td>\n",
       "        <td>$500 AND UNDER</td>\n",
       "        <td>OTHER</td>\n",
       "        <td>0</td>\n",
       "        <td>0</td>\n",
       "        <td>1112</td>\n",
       "        <td>11</td>\n",
       "        <td>27.0</td>\n",
       "        <td>23.0</td>\n",
       "        <td>6</td>\n",
       "        <td>1152206.0</td>\n",
       "        <td>1906127.0</td>\n",
       "        <td>2004</td>\n",
       "        <td>02/28/2018 03:56:25 PM</td>\n",
       "        <td>41.89827996</td>\n",
       "        <td>-87.71640551</td>\n",
       "        <td>(41.898279962, -87.716405505)</td>\n",
       "    </tr>\n",
       "    <tr>\n",
       "        <td>2</td>\n",
       "        <td>8002131</td>\n",
       "        <td>HT233595</td>\n",
       "        <td>04/04/2011 05:45:00 AM</td>\n",
       "        <td>043XX S WABASH AVE</td>\n",
       "        <td>820</td>\n",
       "        <td>THEFT</td>\n",
       "        <td>$500 AND UNDER</td>\n",
       "        <td>NURSING HOME/RETIREMENT HOME</td>\n",
       "        <td>0</td>\n",
       "        <td>0</td>\n",
       "        <td>221</td>\n",
       "        <td>2</td>\n",
       "        <td>3.0</td>\n",
       "        <td>38.0</td>\n",
       "        <td>6</td>\n",
       "        <td>1177436.0</td>\n",
       "        <td>1876313.0</td>\n",
       "        <td>2011</td>\n",
       "        <td>02/10/2018 03:50:01 PM</td>\n",
       "        <td>41.81593313</td>\n",
       "        <td>-87.62464213</td>\n",
       "        <td>(41.815933131, -87.624642127)</td>\n",
       "    </tr>\n",
       "    <tr>\n",
       "        <td>3</td>\n",
       "        <td>7903289</td>\n",
       "        <td>HT133522</td>\n",
       "        <td>12/30/2010 04:30:00 PM</td>\n",
       "        <td>083XX S KINGSTON AVE</td>\n",
       "        <td>840</td>\n",
       "        <td>THEFT</td>\n",
       "        <td>FINANCIAL ID THEFT: OVER $300</td>\n",
       "        <td>RESIDENCE</td>\n",
       "        <td>0</td>\n",
       "        <td>0</td>\n",
       "        <td>423</td>\n",
       "        <td>4</td>\n",
       "        <td>7.0</td>\n",
       "        <td>46.0</td>\n",
       "        <td>6</td>\n",
       "        <td>1194622.0</td>\n",
       "        <td>1850125.0</td>\n",
       "        <td>2010</td>\n",
       "        <td>02/10/2018 03:50:01 PM</td>\n",
       "        <td>41.74366532</td>\n",
       "        <td>-87.56246276</td>\n",
       "        <td>(41.743665322, -87.562462756)</td>\n",
       "    </tr>\n",
       "    <tr>\n",
       "        <td>4</td>\n",
       "        <td>10402076</td>\n",
       "        <td>HZ138551</td>\n",
       "        <td>02/02/2016 07:30:00 PM</td>\n",
       "        <td>033XX W 66TH ST</td>\n",
       "        <td>820</td>\n",
       "        <td>THEFT</td>\n",
       "        <td>$500 AND UNDER</td>\n",
       "        <td>ALLEY</td>\n",
       "        <td>0</td>\n",
       "        <td>0</td>\n",
       "        <td>831</td>\n",
       "        <td>8</td>\n",
       "        <td>15.0</td>\n",
       "        <td>66.0</td>\n",
       "        <td>6</td>\n",
       "        <td>1155240.0</td>\n",
       "        <td>1860661.0</td>\n",
       "        <td>2016</td>\n",
       "        <td>02/10/2018 03:50:01 PM</td>\n",
       "        <td>41.773455299999995</td>\n",
       "        <td>-87.70648047</td>\n",
       "        <td>(41.773455295, -87.706480471)</td>\n",
       "    </tr>\n",
       "</table>"
      ],
      "text/plain": [
       "[(0, 3512276, 'HK587712', '08/28/2004 05:50:56 PM', '047XX S KEDZIE AVE', '890', 'THEFT', 'FROM BUILDING', 'SMALL RETAIL STORE', 0, 0, 911, 9, 14.0, 58.0, '6', 1155838.0, 1873050.0, 2004, '02/10/2018 03:50:01 PM', 41.807440500000006, -87.70395585, '(41.8074405, -87.703955849)'),\n",
       " (1, 3406613, 'HK456306', '06/26/2004 12:40:00 PM', '009XX N CENTRAL PARK AVE', '820', 'THEFT', '$500 AND UNDER', 'OTHER', 0, 0, 1112, 11, 27.0, 23.0, '6', 1152206.0, 1906127.0, 2004, '02/28/2018 03:56:25 PM', 41.89827996, -87.71640551, '(41.898279962, -87.716405505)'),\n",
       " (2, 8002131, 'HT233595', '04/04/2011 05:45:00 AM', '043XX S WABASH AVE', '820', 'THEFT', '$500 AND UNDER', 'NURSING HOME/RETIREMENT HOME', 0, 0, 221, 2, 3.0, 38.0, '6', 1177436.0, 1876313.0, 2011, '02/10/2018 03:50:01 PM', 41.81593313, -87.62464213, '(41.815933131, -87.624642127)'),\n",
       " (3, 7903289, 'HT133522', '12/30/2010 04:30:00 PM', '083XX S KINGSTON AVE', '840', 'THEFT', 'FINANCIAL ID THEFT: OVER $300', 'RESIDENCE', 0, 0, 423, 4, 7.0, 46.0, '6', 1194622.0, 1850125.0, 2010, '02/10/2018 03:50:01 PM', 41.74366532, -87.56246276, '(41.743665322, -87.562462756)'),\n",
       " (4, 10402076, 'HZ138551', '02/02/2016 07:30:00 PM', '033XX W 66TH ST', '820', 'THEFT', '$500 AND UNDER', 'ALLEY', 0, 0, 831, 8, 15.0, 66.0, '6', 1155240.0, 1860661.0, 2016, '02/10/2018 03:50:01 PM', 41.773455299999995, -87.70648047, '(41.773455295, -87.706480471)')]"
      ]
     },
     "execution_count": 22,
     "metadata": {},
     "output_type": "execute_result"
    }
   ],
   "source": [
    "%sql SELECT * FROM chicago_crime_data LIMIT 5;"
   ]
  },
  {
   "cell_type": "markdown",
   "metadata": {},
   "source": [
    "### 1. Find the total number of crimes recorded in the crime table."
   ]
  },
  {
   "cell_type": "code",
   "execution_count": 23,
   "metadata": {},
   "outputs": [
    {
     "name": "stdout",
     "output_type": "stream",
     "text": [
      " * sqlite://\n",
      "Done.\n"
     ]
    },
    {
     "data": {
      "text/html": [
       "<table>\n",
       "    <tr>\n",
       "        <th>total</th>\n",
       "    </tr>\n",
       "    <tr>\n",
       "        <td>533</td>\n",
       "    </tr>\n",
       "</table>"
      ],
      "text/plain": [
       "[(533,)]"
      ]
     },
     "execution_count": 23,
     "metadata": {},
     "output_type": "execute_result"
    }
   ],
   "source": [
    "%%sql\n",
    "SELECT COUNT(*) AS total FROM chicago_crime_data;"
   ]
  },
  {
   "cell_type": "markdown",
   "metadata": {},
   "source": [
    "### 2. How many crimes involve an arrest. "
   ]
  },
  {
   "cell_type": "code",
   "execution_count": 24,
   "metadata": {},
   "outputs": [
    {
     "name": "stdout",
     "output_type": "stream",
     "text": [
      " * sqlite://\n",
      "Done.\n"
     ]
    },
    {
     "data": {
      "text/html": [
       "<table>\n",
       "    <tr>\n",
       "        <th>COUNT(ID)</th>\n",
       "    </tr>\n",
       "    <tr>\n",
       "        <td>163</td>\n",
       "    </tr>\n",
       "</table>"
      ],
      "text/plain": [
       "[(163,)]"
      ]
     },
     "execution_count": 24,
     "metadata": {},
     "output_type": "execute_result"
    }
   ],
   "source": [
    "%%sql\n",
    "SELECT COUNT(ID) FROM chicago_crime_data\n",
    "WHERE arrest = 1;"
   ]
  },
  {
   "cell_type": "markdown",
   "metadata": {},
   "source": [
    "### 3. What  are the unique types of crimes ?"
   ]
  },
  {
   "cell_type": "code",
   "execution_count": 65,
   "metadata": {},
   "outputs": [
    {
     "name": "stdout",
     "output_type": "stream",
     "text": [
      " * sqlite://\n",
      "Done.\n"
     ]
    },
    {
     "data": {
      "text/html": [
       "<table>\n",
       "    <tr>\n",
       "        <th>PRIMARY_TYPE</th>\n",
       "    </tr>\n",
       "    <tr>\n",
       "        <td>THEFT</td>\n",
       "    </tr>\n",
       "    <tr>\n",
       "        <td>BATTERY</td>\n",
       "    </tr>\n",
       "    <tr>\n",
       "        <td>CRIMINAL DAMAGE</td>\n",
       "    </tr>\n",
       "    <tr>\n",
       "        <td>NARCOTICS</td>\n",
       "    </tr>\n",
       "    <tr>\n",
       "        <td>OTHER OFFENSE</td>\n",
       "    </tr>\n",
       "    <tr>\n",
       "        <td>ASSAULT</td>\n",
       "    </tr>\n",
       "    <tr>\n",
       "        <td>BURGLARY</td>\n",
       "    </tr>\n",
       "    <tr>\n",
       "        <td>MOTOR VEHICLE THEFT</td>\n",
       "    </tr>\n",
       "    <tr>\n",
       "        <td>DECEPTIVE PRACTICE</td>\n",
       "    </tr>\n",
       "    <tr>\n",
       "        <td>ROBBERY</td>\n",
       "    </tr>\n",
       "    <tr>\n",
       "        <td>CRIMINAL TRESPASS</td>\n",
       "    </tr>\n",
       "    <tr>\n",
       "        <td>PROSTITUTION</td>\n",
       "    </tr>\n",
       "    <tr>\n",
       "        <td>WEAPONS VIOLATION</td>\n",
       "    </tr>\n",
       "    <tr>\n",
       "        <td>PUBLIC PEACE VIOLATION</td>\n",
       "    </tr>\n",
       "    <tr>\n",
       "        <td>OFFENSE INVOLVING CHILDREN</td>\n",
       "    </tr>\n",
       "    <tr>\n",
       "        <td>CRIM SEXUAL ASSAULT</td>\n",
       "    </tr>\n",
       "    <tr>\n",
       "        <td>SEX OFFENSE</td>\n",
       "    </tr>\n",
       "    <tr>\n",
       "        <td>INTERFERENCE WITH PUBLIC OFFICER</td>\n",
       "    </tr>\n",
       "    <tr>\n",
       "        <td>GAMBLING</td>\n",
       "    </tr>\n",
       "    <tr>\n",
       "        <td>LIQUOR LAW VIOLATION</td>\n",
       "    </tr>\n",
       "    <tr>\n",
       "        <td>ARSON</td>\n",
       "    </tr>\n",
       "    <tr>\n",
       "        <td>HOMICIDE</td>\n",
       "    </tr>\n",
       "    <tr>\n",
       "        <td>KIDNAPPING</td>\n",
       "    </tr>\n",
       "    <tr>\n",
       "        <td>INTIMIDATION</td>\n",
       "    </tr>\n",
       "    <tr>\n",
       "        <td>STALKING</td>\n",
       "    </tr>\n",
       "    <tr>\n",
       "        <td>OBSCENITY</td>\n",
       "    </tr>\n",
       "    <tr>\n",
       "        <td>CONCEALED CARRY LICENSE VIOLATION</td>\n",
       "    </tr>\n",
       "    <tr>\n",
       "        <td>PUBLIC INDECENCY</td>\n",
       "    </tr>\n",
       "    <tr>\n",
       "        <td>NON-CRIMINAL</td>\n",
       "    </tr>\n",
       "    <tr>\n",
       "        <td>OTHER NARCOTIC VIOLATION</td>\n",
       "    </tr>\n",
       "    <tr>\n",
       "        <td>HUMAN TRAFFICKING</td>\n",
       "    </tr>\n",
       "    <tr>\n",
       "        <td>NON - CRIMINAL</td>\n",
       "    </tr>\n",
       "    <tr>\n",
       "        <td>RITUALISM</td>\n",
       "    </tr>\n",
       "    <tr>\n",
       "        <td>NON-CRIMINAL (SUBJECT SPECIFIED)</td>\n",
       "    </tr>\n",
       "    <tr>\n",
       "        <td>DOMESTIC VIOLENCE</td>\n",
       "    </tr>\n",
       "</table>"
      ],
      "text/plain": [
       "[('THEFT',),\n",
       " ('BATTERY',),\n",
       " ('CRIMINAL DAMAGE',),\n",
       " ('NARCOTICS',),\n",
       " ('OTHER OFFENSE',),\n",
       " ('ASSAULT',),\n",
       " ('BURGLARY',),\n",
       " ('MOTOR VEHICLE THEFT',),\n",
       " ('DECEPTIVE PRACTICE',),\n",
       " ('ROBBERY',),\n",
       " ('CRIMINAL TRESPASS',),\n",
       " ('PROSTITUTION',),\n",
       " ('WEAPONS VIOLATION',),\n",
       " ('PUBLIC PEACE VIOLATION',),\n",
       " ('OFFENSE INVOLVING CHILDREN',),\n",
       " ('CRIM SEXUAL ASSAULT',),\n",
       " ('SEX OFFENSE',),\n",
       " ('INTERFERENCE WITH PUBLIC OFFICER',),\n",
       " ('GAMBLING',),\n",
       " ('LIQUOR LAW VIOLATION',),\n",
       " ('ARSON',),\n",
       " ('HOMICIDE',),\n",
       " ('KIDNAPPING',),\n",
       " ('INTIMIDATION',),\n",
       " ('STALKING',),\n",
       " ('OBSCENITY',),\n",
       " ('CONCEALED CARRY LICENSE VIOLATION',),\n",
       " ('PUBLIC INDECENCY',),\n",
       " ('NON-CRIMINAL',),\n",
       " ('OTHER NARCOTIC VIOLATION',),\n",
       " ('HUMAN TRAFFICKING',),\n",
       " ('NON - CRIMINAL',),\n",
       " ('RITUALISM',),\n",
       " ('NON-CRIMINAL (SUBJECT SPECIFIED)',),\n",
       " ('DOMESTIC VIOLENCE',)]"
      ]
     },
     "execution_count": 65,
     "metadata": {},
     "output_type": "execute_result"
    }
   ],
   "source": [
    "%%sql\n",
    "SELECT DISTINCT(primary_type) FROM chicago_crime_data"
   ]
  },
  {
   "cell_type": "markdown",
   "metadata": {},
   "source": [
    "### 4. Which unique types of crimes (e.g. THEFT) have been recorded at a GAS STATION locations? "
   ]
  },
  {
   "cell_type": "code",
   "execution_count": 29,
   "metadata": {},
   "outputs": [
    {
     "name": "stdout",
     "output_type": "stream",
     "text": [
      " * sqlite://\n",
      "Done.\n"
     ]
    },
    {
     "data": {
      "text/html": [
       "<table>\n",
       "    <tr>\n",
       "        <th>PRIMARY_TYPE</th>\n",
       "    </tr>\n",
       "    <tr>\n",
       "        <td>THEFT</td>\n",
       "    </tr>\n",
       "    <tr>\n",
       "        <td>NARCOTICS</td>\n",
       "    </tr>\n",
       "    <tr>\n",
       "        <td>ROBBERY</td>\n",
       "    </tr>\n",
       "    <tr>\n",
       "        <td>CRIMINAL TRESPASS</td>\n",
       "    </tr>\n",
       "</table>"
      ],
      "text/plain": [
       "[('THEFT',), ('NARCOTICS',), ('ROBBERY',), ('CRIMINAL TRESPASS',)]"
      ]
     },
     "execution_count": 29,
     "metadata": {},
     "output_type": "execute_result"
    }
   ],
   "source": [
    "%%sql\n",
    "SELECT DISTINCT(primary_type) FROM chicago_crime_data\n",
    "WHERE location_description LIKE \"%Gas%\""
   ]
  },
  {
   "cell_type": "markdown",
   "metadata": {},
   "source": [
    "### 5. How many crimes in each community area (with name) in ascending order ?"
   ]
  },
  {
   "cell_type": "code",
   "execution_count": 55,
   "metadata": {},
   "outputs": [
    {
     "name": "stdout",
     "output_type": "stream",
     "text": [
      " * sqlite://\n",
      "Done.\n"
     ]
    },
    {
     "data": {
      "text/html": [
       "<table>\n",
       "    <tr>\n",
       "        <th>COMMUNITY_AREA_NAME</th>\n",
       "        <th>no_of_crimes</th>\n",
       "    </tr>\n",
       "    <tr>\n",
       "        <td>Bridgeport</td>\n",
       "        <td>1</td>\n",
       "    </tr>\n",
       "    <tr>\n",
       "        <td>Burnside</td>\n",
       "        <td>1</td>\n",
       "    </tr>\n",
       "    <tr>\n",
       "        <td>Forest Glen</td>\n",
       "        <td>1</td>\n",
       "    </tr>\n",
       "    <tr>\n",
       "        <td>Hegewisch</td>\n",
       "        <td>1</td>\n",
       "    </tr>\n",
       "    <tr>\n",
       "        <td>Morgan Park</td>\n",
       "        <td>1</td>\n",
       "    </tr>\n",
       "    <tr>\n",
       "        <td>Near South Side</td>\n",
       "        <td>1</td>\n",
       "    </tr>\n",
       "    <tr>\n",
       "        <td>Clearing</td>\n",
       "        <td>2</td>\n",
       "    </tr>\n",
       "    <tr>\n",
       "        <td>East Side</td>\n",
       "        <td>2</td>\n",
       "    </tr>\n",
       "    <tr>\n",
       "        <td>Edgewater</td>\n",
       "        <td>2</td>\n",
       "    </tr>\n",
       "    <tr>\n",
       "        <td>Fuller Park</td>\n",
       "        <td>2</td>\n",
       "    </tr>\n",
       "    <tr>\n",
       "        <td>Garfield Ridge</td>\n",
       "        <td>2</td>\n",
       "    </tr>\n",
       "    <tr>\n",
       "        <td>Hyde Park</td>\n",
       "        <td>2</td>\n",
       "    </tr>\n",
       "    <tr>\n",
       "        <td>Jefferson Park</td>\n",
       "        <td>2</td>\n",
       "    </tr>\n",
       "    <tr>\n",
       "        <td>McKinley Park</td>\n",
       "        <td>2</td>\n",
       "    </tr>\n",
       "    <tr>\n",
       "        <td>Montclaire</td>\n",
       "        <td>2</td>\n",
       "    </tr>\n",
       "    <tr>\n",
       "        <td>Riverdale</td>\n",
       "        <td>2</td>\n",
       "    </tr>\n",
       "    <tr>\n",
       "        <td>Dunning</td>\n",
       "        <td>3</td>\n",
       "    </tr>\n",
       "    <tr>\n",
       "        <td>Hermosa</td>\n",
       "        <td>3</td>\n",
       "    </tr>\n",
       "    <tr>\n",
       "        <td>Lincoln Square</td>\n",
       "        <td>3</td>\n",
       "    </tr>\n",
       "    <tr>\n",
       "        <td>Norwood Park</td>\n",
       "        <td>3</td>\n",
       "    </tr>\n",
       "    <tr>\n",
       "        <td>Pullman</td>\n",
       "        <td>3</td>\n",
       "    </tr>\n",
       "    <tr>\n",
       "        <td>Washington Height</td>\n",
       "        <td>3</td>\n",
       "    </tr>\n",
       "    <tr>\n",
       "        <td>West Lawn</td>\n",
       "        <td>3</td>\n",
       "    </tr>\n",
       "    <tr>\n",
       "        <td>Avalon Park</td>\n",
       "        <td>4</td>\n",
       "    </tr>\n",
       "    <tr>\n",
       "        <td>Beverly</td>\n",
       "        <td>4</td>\n",
       "    </tr>\n",
       "    <tr>\n",
       "        <td>Kenwood</td>\n",
       "        <td>4</td>\n",
       "    </tr>\n",
       "    <tr>\n",
       "        <td>North Center</td>\n",
       "        <td>4</td>\n",
       "    </tr>\n",
       "    <tr>\n",
       "        <td>O&#x27;Hare</td>\n",
       "        <td>4</td>\n",
       "    </tr>\n",
       "    <tr>\n",
       "        <td>South Deering</td>\n",
       "        <td>4</td>\n",
       "    </tr>\n",
       "    <tr>\n",
       "        <td>Uptown</td>\n",
       "        <td>4</td>\n",
       "    </tr>\n",
       "    <tr>\n",
       "        <td>West Elsdon</td>\n",
       "        <td>4</td>\n",
       "    </tr>\n",
       "    <tr>\n",
       "        <td>Albany Park</td>\n",
       "        <td>5</td>\n",
       "    </tr>\n",
       "    <tr>\n",
       "        <td>Calumet Heights</td>\n",
       "        <td>5</td>\n",
       "    </tr>\n",
       "    <tr>\n",
       "        <td>Douglas</td>\n",
       "        <td>5</td>\n",
       "    </tr>\n",
       "    <tr>\n",
       "        <td>Lincoln Park</td>\n",
       "        <td>5</td>\n",
       "    </tr>\n",
       "    <tr>\n",
       "        <td>Portage Park</td>\n",
       "        <td>5</td>\n",
       "    </tr>\n",
       "    <tr>\n",
       "        <td>Avondale</td>\n",
       "        <td>6</td>\n",
       "    </tr>\n",
       "    <tr>\n",
       "        <td>Rogers Park</td>\n",
       "        <td>6</td>\n",
       "    </tr>\n",
       "    <tr>\n",
       "        <td>West Pullman</td>\n",
       "        <td>6</td>\n",
       "    </tr>\n",
       "    <tr>\n",
       "        <td>Gage Park</td>\n",
       "        <td>7</td>\n",
       "    </tr>\n",
       "    <tr>\n",
       "        <td>Loop</td>\n",
       "        <td>7</td>\n",
       "    </tr>\n",
       "    <tr>\n",
       "        <td>West Ridge</td>\n",
       "        <td>7</td>\n",
       "    </tr>\n",
       "    <tr>\n",
       "        <td>Ashburn</td>\n",
       "        <td>8</td>\n",
       "    </tr>\n",
       "    <tr>\n",
       "        <td>Belmont Cragin</td>\n",
       "        <td>8</td>\n",
       "    </tr>\n",
       "    <tr>\n",
       "        <td>Chatham</td>\n",
       "        <td>8</td>\n",
       "    </tr>\n",
       "    <tr>\n",
       "        <td>East Garfield Park</td>\n",
       "        <td>8</td>\n",
       "    </tr>\n",
       "    <tr>\n",
       "        <td>Grand Boulevard</td>\n",
       "        <td>8</td>\n",
       "    </tr>\n",
       "    <tr>\n",
       "        <td>Irving Park</td>\n",
       "        <td>8</td>\n",
       "    </tr>\n",
       "    <tr>\n",
       "        <td>South Lawndale</td>\n",
       "        <td>8</td>\n",
       "    </tr>\n",
       "    <tr>\n",
       "        <td>Woodlawn</td>\n",
       "        <td>8</td>\n",
       "    </tr>\n",
       "    <tr>\n",
       "        <td>Logan Square</td>\n",
       "        <td>9</td>\n",
       "    </tr>\n",
       "    <tr>\n",
       "        <td>Lower West Side</td>\n",
       "        <td>9</td>\n",
       "    </tr>\n",
       "    <tr>\n",
       "        <td>South Chicago</td>\n",
       "        <td>9</td>\n",
       "    </tr>\n",
       "    <tr>\n",
       "        <td>South Shore</td>\n",
       "        <td>9</td>\n",
       "    </tr>\n",
       "    <tr>\n",
       "        <td>Brighton Park</td>\n",
       "        <td>10</td>\n",
       "    </tr>\n",
       "    <tr>\n",
       "        <td>New City</td>\n",
       "        <td>10</td>\n",
       "    </tr>\n",
       "    <tr>\n",
       "        <td>West Garfield Park</td>\n",
       "        <td>10</td>\n",
       "    </tr>\n",
       "    <tr>\n",
       "        <td>Greater Grand Crossing</td>\n",
       "        <td>11</td>\n",
       "    </tr>\n",
       "    <tr>\n",
       "        <td>Lake View</td>\n",
       "        <td>11</td>\n",
       "    </tr>\n",
       "    <tr>\n",
       "        <td>Roseland</td>\n",
       "        <td>11</td>\n",
       "    </tr>\n",
       "    <tr>\n",
       "        <td>Chicago Lawn</td>\n",
       "        <td>12</td>\n",
       "    </tr>\n",
       "    <tr>\n",
       "        <td>West Englewood</td>\n",
       "        <td>12</td>\n",
       "    </tr>\n",
       "    <tr>\n",
       "        <td>West Town</td>\n",
       "        <td>13</td>\n",
       "    </tr>\n",
       "    <tr>\n",
       "        <td>Auburn Gresham</td>\n",
       "        <td>14</td>\n",
       "    </tr>\n",
       "    <tr>\n",
       "        <td>Near North Side</td>\n",
       "        <td>15</td>\n",
       "    </tr>\n",
       "    <tr>\n",
       "        <td>Near West Side</td>\n",
       "        <td>16</td>\n",
       "    </tr>\n",
       "    <tr>\n",
       "        <td>North Lawndale</td>\n",
       "        <td>16</td>\n",
       "    </tr>\n",
       "    <tr>\n",
       "        <td>Englewood</td>\n",
       "        <td>21</td>\n",
       "    </tr>\n",
       "    <tr>\n",
       "        <td>Humboldt park</td>\n",
       "        <td>22</td>\n",
       "    </tr>\n",
       "    <tr>\n",
       "        <td>None</td>\n",
       "        <td>43</td>\n",
       "    </tr>\n",
       "    <tr>\n",
       "        <td>Austin</td>\n",
       "        <td>43</td>\n",
       "    </tr>\n",
       "</table>"
      ],
      "text/plain": [
       "[('Bridgeport', 1),\n",
       " ('Burnside', 1),\n",
       " ('Forest Glen', 1),\n",
       " ('Hegewisch', 1),\n",
       " ('Morgan Park', 1),\n",
       " ('Near South Side', 1),\n",
       " ('Clearing', 2),\n",
       " ('East Side', 2),\n",
       " ('Edgewater', 2),\n",
       " ('Fuller Park', 2),\n",
       " ('Garfield Ridge', 2),\n",
       " ('Hyde Park', 2),\n",
       " ('Jefferson Park', 2),\n",
       " ('McKinley Park', 2),\n",
       " ('Montclaire', 2),\n",
       " ('Riverdale', 2),\n",
       " ('Dunning', 3),\n",
       " ('Hermosa', 3),\n",
       " ('Lincoln Square', 3),\n",
       " ('Norwood Park', 3),\n",
       " ('Pullman', 3),\n",
       " ('Washington Height', 3),\n",
       " ('West Lawn', 3),\n",
       " ('Avalon Park', 4),\n",
       " ('Beverly', 4),\n",
       " ('Kenwood', 4),\n",
       " ('North Center', 4),\n",
       " (\"O'Hare\", 4),\n",
       " ('South Deering', 4),\n",
       " ('Uptown', 4),\n",
       " ('West Elsdon', 4),\n",
       " ('Albany Park', 5),\n",
       " ('Calumet Heights', 5),\n",
       " ('Douglas', 5),\n",
       " ('Lincoln Park', 5),\n",
       " ('Portage Park', 5),\n",
       " ('Avondale', 6),\n",
       " ('Rogers Park', 6),\n",
       " ('West Pullman', 6),\n",
       " ('Gage Park', 7),\n",
       " ('Loop', 7),\n",
       " ('West Ridge', 7),\n",
       " ('Ashburn', 8),\n",
       " ('Belmont Cragin', 8),\n",
       " ('Chatham', 8),\n",
       " ('East Garfield Park', 8),\n",
       " ('Grand Boulevard', 8),\n",
       " ('Irving Park', 8),\n",
       " ('South Lawndale', 8),\n",
       " ('Woodlawn', 8),\n",
       " ('Logan Square', 9),\n",
       " ('Lower West Side', 9),\n",
       " ('South Chicago', 9),\n",
       " ('South Shore', 9),\n",
       " ('Brighton Park', 10),\n",
       " ('New City', 10),\n",
       " ('West Garfield Park', 10),\n",
       " ('Greater Grand Crossing', 11),\n",
       " ('Lake View', 11),\n",
       " ('Roseland', 11),\n",
       " ('Chicago Lawn', 12),\n",
       " ('West Englewood', 12),\n",
       " ('West Town', 13),\n",
       " ('Auburn Gresham', 14),\n",
       " ('Near North Side', 15),\n",
       " ('Near West Side', 16),\n",
       " ('North Lawndale', 16),\n",
       " ('Englewood', 21),\n",
       " ('Humboldt park', 22),\n",
       " (None, 43),\n",
       " ('Austin', 43)]"
      ]
     },
     "execution_count": 55,
     "metadata": {},
     "output_type": "execute_result"
    }
   ],
   "source": [
    "%%sql\n",
    "SELECT community_area_name, COUNT(primary_type) AS no_of_crimes\n",
    "FROM chicago_crime_data LEFT JOIN chicago_socioeconomic_data\n",
    "ON chicago_socioeconomic_data.COMMUNITY_AREA_NUMBER = chicago_crime_data.COMMUNITY_AREA_NUMBER \n",
    "GROUP BY community_area_name\n",
    "ORDER BY no_of_crimes ASC"
   ]
  },
  {
   "cell_type": "markdown",
   "metadata": {},
   "source": [
    "### 6. Which type of crime appears the most in each community area ? "
   ]
  },
  {
   "cell_type": "code",
   "execution_count": 61,
   "metadata": {},
   "outputs": [
    {
     "name": "stdout",
     "output_type": "stream",
     "text": [
      " * sqlite://\n",
      "Done.\n"
     ]
    },
    {
     "data": {
      "text/html": [
       "<table>\n",
       "    <tr>\n",
       "        <th>community_area_name</th>\n",
       "        <th>primary_type</th>\n",
       "        <th>MAX(no_of_crimes)</th>\n",
       "    </tr>\n",
       "    <tr>\n",
       "        <td>None</td>\n",
       "        <td>BATTERY</td>\n",
       "        <td>11</td>\n",
       "    </tr>\n",
       "    <tr>\n",
       "        <td>Albany Park</td>\n",
       "        <td>THEFT</td>\n",
       "        <td>3</td>\n",
       "    </tr>\n",
       "    <tr>\n",
       "        <td>Ashburn</td>\n",
       "        <td>CRIMINAL DAMAGE</td>\n",
       "        <td>2</td>\n",
       "    </tr>\n",
       "    <tr>\n",
       "        <td>Auburn Gresham</td>\n",
       "        <td>ASSAULT</td>\n",
       "        <td>2</td>\n",
       "    </tr>\n",
       "    <tr>\n",
       "        <td>Austin</td>\n",
       "        <td>BATTERY</td>\n",
       "        <td>10</td>\n",
       "    </tr>\n",
       "    <tr>\n",
       "        <td>Avalon Park</td>\n",
       "        <td>ASSAULT</td>\n",
       "        <td>1</td>\n",
       "    </tr>\n",
       "    <tr>\n",
       "        <td>Avondale</td>\n",
       "        <td>BATTERY</td>\n",
       "        <td>2</td>\n",
       "    </tr>\n",
       "    <tr>\n",
       "        <td>Belmont Cragin</td>\n",
       "        <td>BATTERY</td>\n",
       "        <td>3</td>\n",
       "    </tr>\n",
       "    <tr>\n",
       "        <td>Beverly</td>\n",
       "        <td>BURGLARY</td>\n",
       "        <td>2</td>\n",
       "    </tr>\n",
       "    <tr>\n",
       "        <td>Bridgeport</td>\n",
       "        <td>CRIMINAL DAMAGE</td>\n",
       "        <td>1</td>\n",
       "    </tr>\n",
       "    <tr>\n",
       "        <td>Brighton Park</td>\n",
       "        <td>CRIMINAL DAMAGE</td>\n",
       "        <td>3</td>\n",
       "    </tr>\n",
       "    <tr>\n",
       "        <td>Burnside</td>\n",
       "        <td>CRIMINAL DAMAGE</td>\n",
       "        <td>1</td>\n",
       "    </tr>\n",
       "    <tr>\n",
       "        <td>Calumet Heights</td>\n",
       "        <td>BURGLARY</td>\n",
       "        <td>1</td>\n",
       "    </tr>\n",
       "    <tr>\n",
       "        <td>Chatham</td>\n",
       "        <td>CRIMINAL DAMAGE</td>\n",
       "        <td>2</td>\n",
       "    </tr>\n",
       "    <tr>\n",
       "        <td>Chicago Lawn</td>\n",
       "        <td>THEFT</td>\n",
       "        <td>3</td>\n",
       "    </tr>\n",
       "    <tr>\n",
       "        <td>Clearing</td>\n",
       "        <td>THEFT</td>\n",
       "        <td>2</td>\n",
       "    </tr>\n",
       "    <tr>\n",
       "        <td>Douglas</td>\n",
       "        <td>CRIMINAL TRESPASS</td>\n",
       "        <td>3</td>\n",
       "    </tr>\n",
       "    <tr>\n",
       "        <td>Dunning</td>\n",
       "        <td>BURGLARY</td>\n",
       "        <td>2</td>\n",
       "    </tr>\n",
       "    <tr>\n",
       "        <td>East Garfield Park</td>\n",
       "        <td>BATTERY</td>\n",
       "        <td>3</td>\n",
       "    </tr>\n",
       "    <tr>\n",
       "        <td>East Side</td>\n",
       "        <td>BURGLARY</td>\n",
       "        <td>1</td>\n",
       "    </tr>\n",
       "    <tr>\n",
       "        <td>Edgewater</td>\n",
       "        <td>THEFT</td>\n",
       "        <td>2</td>\n",
       "    </tr>\n",
       "    <tr>\n",
       "        <td>Englewood</td>\n",
       "        <td>THEFT</td>\n",
       "        <td>5</td>\n",
       "    </tr>\n",
       "    <tr>\n",
       "        <td>Forest Glen</td>\n",
       "        <td>SEX OFFENSE</td>\n",
       "        <td>1</td>\n",
       "    </tr>\n",
       "    <tr>\n",
       "        <td>Fuller Park</td>\n",
       "        <td>BATTERY</td>\n",
       "        <td>2</td>\n",
       "    </tr>\n",
       "    <tr>\n",
       "        <td>Gage Park</td>\n",
       "        <td>CRIMINAL DAMAGE</td>\n",
       "        <td>2</td>\n",
       "    </tr>\n",
       "    <tr>\n",
       "        <td>Garfield Ridge</td>\n",
       "        <td>PUBLIC PEACE VIOLATION</td>\n",
       "        <td>1</td>\n",
       "    </tr>\n",
       "    <tr>\n",
       "        <td>Grand Boulevard</td>\n",
       "        <td>ASSAULT</td>\n",
       "        <td>2</td>\n",
       "    </tr>\n",
       "    <tr>\n",
       "        <td>Greater Grand Crossing</td>\n",
       "        <td>BATTERY</td>\n",
       "        <td>2</td>\n",
       "    </tr>\n",
       "    <tr>\n",
       "        <td>Hegewisch</td>\n",
       "        <td>NARCOTICS</td>\n",
       "        <td>1</td>\n",
       "    </tr>\n",
       "    <tr>\n",
       "        <td>Hermosa</td>\n",
       "        <td>BURGLARY</td>\n",
       "        <td>1</td>\n",
       "    </tr>\n",
       "    <tr>\n",
       "        <td>Humboldt park</td>\n",
       "        <td>NARCOTICS</td>\n",
       "        <td>6</td>\n",
       "    </tr>\n",
       "    <tr>\n",
       "        <td>Hyde Park</td>\n",
       "        <td>CRIMINAL DAMAGE</td>\n",
       "        <td>1</td>\n",
       "    </tr>\n",
       "    <tr>\n",
       "        <td>Irving Park</td>\n",
       "        <td>CRIMINAL DAMAGE</td>\n",
       "        <td>2</td>\n",
       "    </tr>\n",
       "    <tr>\n",
       "        <td>Jefferson Park</td>\n",
       "        <td>CRIMINAL DAMAGE</td>\n",
       "        <td>1</td>\n",
       "    </tr>\n",
       "    <tr>\n",
       "        <td>Kenwood</td>\n",
       "        <td>BATTERY</td>\n",
       "        <td>2</td>\n",
       "    </tr>\n",
       "    <tr>\n",
       "        <td>Lake View</td>\n",
       "        <td>THEFT</td>\n",
       "        <td>4</td>\n",
       "    </tr>\n",
       "    <tr>\n",
       "        <td>Lincoln Park</td>\n",
       "        <td>BATTERY</td>\n",
       "        <td>2</td>\n",
       "    </tr>\n",
       "    <tr>\n",
       "        <td>Lincoln Square</td>\n",
       "        <td>BATTERY</td>\n",
       "        <td>1</td>\n",
       "    </tr>\n",
       "    <tr>\n",
       "        <td>Logan Square</td>\n",
       "        <td>THEFT</td>\n",
       "        <td>3</td>\n",
       "    </tr>\n",
       "    <tr>\n",
       "        <td>Loop</td>\n",
       "        <td>THEFT</td>\n",
       "        <td>4</td>\n",
       "    </tr>\n",
       "    <tr>\n",
       "        <td>Lower West Side</td>\n",
       "        <td>CRIMINAL DAMAGE</td>\n",
       "        <td>2</td>\n",
       "    </tr>\n",
       "    <tr>\n",
       "        <td>McKinley Park</td>\n",
       "        <td>THEFT</td>\n",
       "        <td>2</td>\n",
       "    </tr>\n",
       "    <tr>\n",
       "        <td>Montclaire</td>\n",
       "        <td>CRIMINAL DAMAGE</td>\n",
       "        <td>1</td>\n",
       "    </tr>\n",
       "    <tr>\n",
       "        <td>Morgan Park</td>\n",
       "        <td>THEFT</td>\n",
       "        <td>1</td>\n",
       "    </tr>\n",
       "    <tr>\n",
       "        <td>Near North Side</td>\n",
       "        <td>THEFT</td>\n",
       "        <td>4</td>\n",
       "    </tr>\n",
       "    <tr>\n",
       "        <td>Near South Side</td>\n",
       "        <td>ASSAULT</td>\n",
       "        <td>1</td>\n",
       "    </tr>\n",
       "    <tr>\n",
       "        <td>Near West Side</td>\n",
       "        <td>THEFT</td>\n",
       "        <td>5</td>\n",
       "    </tr>\n",
       "    <tr>\n",
       "        <td>New City</td>\n",
       "        <td>BATTERY</td>\n",
       "        <td>3</td>\n",
       "    </tr>\n",
       "    <tr>\n",
       "        <td>North Center</td>\n",
       "        <td>BATTERY</td>\n",
       "        <td>1</td>\n",
       "    </tr>\n",
       "    <tr>\n",
       "        <td>North Lawndale</td>\n",
       "        <td>BATTERY</td>\n",
       "        <td>6</td>\n",
       "    </tr>\n",
       "    <tr>\n",
       "        <td>Norwood Park</td>\n",
       "        <td>CRIMINAL DAMAGE</td>\n",
       "        <td>2</td>\n",
       "    </tr>\n",
       "    <tr>\n",
       "        <td>O&#x27;Hare</td>\n",
       "        <td>THEFT</td>\n",
       "        <td>2</td>\n",
       "    </tr>\n",
       "    <tr>\n",
       "        <td>Portage Park</td>\n",
       "        <td>CRIMINAL DAMAGE</td>\n",
       "        <td>1</td>\n",
       "    </tr>\n",
       "    <tr>\n",
       "        <td>Pullman</td>\n",
       "        <td>BATTERY</td>\n",
       "        <td>1</td>\n",
       "    </tr>\n",
       "    <tr>\n",
       "        <td>Riverdale</td>\n",
       "        <td>ARSON</td>\n",
       "        <td>1</td>\n",
       "    </tr>\n",
       "    <tr>\n",
       "        <td>Rogers Park</td>\n",
       "        <td>CRIMINAL DAMAGE</td>\n",
       "        <td>1</td>\n",
       "    </tr>\n",
       "    <tr>\n",
       "        <td>Roseland</td>\n",
       "        <td>THEFT</td>\n",
       "        <td>3</td>\n",
       "    </tr>\n",
       "    <tr>\n",
       "        <td>South Chicago</td>\n",
       "        <td>BATTERY</td>\n",
       "        <td>1</td>\n",
       "    </tr>\n",
       "    <tr>\n",
       "        <td>South Deering</td>\n",
       "        <td>ASSAULT</td>\n",
       "        <td>1</td>\n",
       "    </tr>\n",
       "    <tr>\n",
       "        <td>South Lawndale</td>\n",
       "        <td>BATTERY</td>\n",
       "        <td>3</td>\n",
       "    </tr>\n",
       "    <tr>\n",
       "        <td>South Shore</td>\n",
       "        <td>BATTERY</td>\n",
       "        <td>3</td>\n",
       "    </tr>\n",
       "    <tr>\n",
       "        <td>Uptown</td>\n",
       "        <td>NARCOTICS</td>\n",
       "        <td>4</td>\n",
       "    </tr>\n",
       "    <tr>\n",
       "        <td>Washington Height</td>\n",
       "        <td>THEFT</td>\n",
       "        <td>2</td>\n",
       "    </tr>\n",
       "    <tr>\n",
       "        <td>West Elsdon</td>\n",
       "        <td>BATTERY</td>\n",
       "        <td>1</td>\n",
       "    </tr>\n",
       "    <tr>\n",
       "        <td>West Englewood</td>\n",
       "        <td>THEFT</td>\n",
       "        <td>3</td>\n",
       "    </tr>\n",
       "    <tr>\n",
       "        <td>West Garfield Park</td>\n",
       "        <td>BATTERY</td>\n",
       "        <td>2</td>\n",
       "    </tr>\n",
       "    <tr>\n",
       "        <td>West Lawn</td>\n",
       "        <td>THEFT</td>\n",
       "        <td>2</td>\n",
       "    </tr>\n",
       "    <tr>\n",
       "        <td>West Pullman</td>\n",
       "        <td>ROBBERY</td>\n",
       "        <td>2</td>\n",
       "    </tr>\n",
       "    <tr>\n",
       "        <td>West Ridge</td>\n",
       "        <td>BATTERY</td>\n",
       "        <td>2</td>\n",
       "    </tr>\n",
       "    <tr>\n",
       "        <td>West Town</td>\n",
       "        <td>CRIMINAL DAMAGE</td>\n",
       "        <td>4</td>\n",
       "    </tr>\n",
       "    <tr>\n",
       "        <td>Woodlawn</td>\n",
       "        <td>NARCOTICS</td>\n",
       "        <td>2</td>\n",
       "    </tr>\n",
       "</table>"
      ],
      "text/plain": [
       "[(None, 'BATTERY', 11),\n",
       " ('Albany Park', 'THEFT', 3),\n",
       " ('Ashburn', 'CRIMINAL DAMAGE', 2),\n",
       " ('Auburn Gresham', 'ASSAULT', 2),\n",
       " ('Austin', 'BATTERY', 10),\n",
       " ('Avalon Park', 'ASSAULT', 1),\n",
       " ('Avondale', 'BATTERY', 2),\n",
       " ('Belmont Cragin', 'BATTERY', 3),\n",
       " ('Beverly', 'BURGLARY', 2),\n",
       " ('Bridgeport', 'CRIMINAL DAMAGE', 1),\n",
       " ('Brighton Park', 'CRIMINAL DAMAGE', 3),\n",
       " ('Burnside', 'CRIMINAL DAMAGE', 1),\n",
       " ('Calumet Heights', 'BURGLARY', 1),\n",
       " ('Chatham', 'CRIMINAL DAMAGE', 2),\n",
       " ('Chicago Lawn', 'THEFT', 3),\n",
       " ('Clearing', 'THEFT', 2),\n",
       " ('Douglas', 'CRIMINAL TRESPASS', 3),\n",
       " ('Dunning', 'BURGLARY', 2),\n",
       " ('East Garfield Park', 'BATTERY', 3),\n",
       " ('East Side', 'BURGLARY', 1),\n",
       " ('Edgewater', 'THEFT', 2),\n",
       " ('Englewood', 'THEFT', 5),\n",
       " ('Forest Glen', 'SEX OFFENSE', 1),\n",
       " ('Fuller Park', 'BATTERY', 2),\n",
       " ('Gage Park', 'CRIMINAL DAMAGE', 2),\n",
       " ('Garfield Ridge', 'PUBLIC PEACE VIOLATION', 1),\n",
       " ('Grand Boulevard', 'ASSAULT', 2),\n",
       " ('Greater Grand Crossing', 'BATTERY', 2),\n",
       " ('Hegewisch', 'NARCOTICS', 1),\n",
       " ('Hermosa', 'BURGLARY', 1),\n",
       " ('Humboldt park', 'NARCOTICS', 6),\n",
       " ('Hyde Park', 'CRIMINAL DAMAGE', 1),\n",
       " ('Irving Park', 'CRIMINAL DAMAGE', 2),\n",
       " ('Jefferson Park', 'CRIMINAL DAMAGE', 1),\n",
       " ('Kenwood', 'BATTERY', 2),\n",
       " ('Lake View', 'THEFT', 4),\n",
       " ('Lincoln Park', 'BATTERY', 2),\n",
       " ('Lincoln Square', 'BATTERY', 1),\n",
       " ('Logan Square', 'THEFT', 3),\n",
       " ('Loop', 'THEFT', 4),\n",
       " ('Lower West Side', 'CRIMINAL DAMAGE', 2),\n",
       " ('McKinley Park', 'THEFT', 2),\n",
       " ('Montclaire', 'CRIMINAL DAMAGE', 1),\n",
       " ('Morgan Park', 'THEFT', 1),\n",
       " ('Near North Side', 'THEFT', 4),\n",
       " ('Near South Side', 'ASSAULT', 1),\n",
       " ('Near West Side', 'THEFT', 5),\n",
       " ('New City', 'BATTERY', 3),\n",
       " ('North Center', 'BATTERY', 1),\n",
       " ('North Lawndale', 'BATTERY', 6),\n",
       " ('Norwood Park', 'CRIMINAL DAMAGE', 2),\n",
       " (\"O'Hare\", 'THEFT', 2),\n",
       " ('Portage Park', 'CRIMINAL DAMAGE', 1),\n",
       " ('Pullman', 'BATTERY', 1),\n",
       " ('Riverdale', 'ARSON', 1),\n",
       " ('Rogers Park', 'CRIMINAL DAMAGE', 1),\n",
       " ('Roseland', 'THEFT', 3),\n",
       " ('South Chicago', 'BATTERY', 1),\n",
       " ('South Deering', 'ASSAULT', 1),\n",
       " ('South Lawndale', 'BATTERY', 3),\n",
       " ('South Shore', 'BATTERY', 3),\n",
       " ('Uptown', 'NARCOTICS', 4),\n",
       " ('Washington Height', 'THEFT', 2),\n",
       " ('West Elsdon', 'BATTERY', 1),\n",
       " ('West Englewood', 'THEFT', 3),\n",
       " ('West Garfield Park', 'BATTERY', 2),\n",
       " ('West Lawn', 'THEFT', 2),\n",
       " ('West Pullman', 'ROBBERY', 2),\n",
       " ('West Ridge', 'BATTERY', 2),\n",
       " ('West Town', 'CRIMINAL DAMAGE', 4),\n",
       " ('Woodlawn', 'NARCOTICS', 2)]"
      ]
     },
     "execution_count": 61,
     "metadata": {},
     "output_type": "execute_result"
    }
   ],
   "source": [
    "%%sql\n",
    "SELECT community_area_name, primary_type, MAX(no_of_crimes) FROM\n",
    "(SELECT community_area_name, primary_type, COUNT(primary_type) AS no_of_crimes\n",
    "FROM chicago_crime_data LEFT JOIN chicago_socioeconomic_data\n",
    "ON chicago_socioeconomic_data.COMMUNITY_AREA_NUMBER = chicago_crime_data.COMMUNITY_AREA_NUMBER \n",
    "GROUP BY community_area_name, primary_type)\n",
    "GROUP BY community_area_name"
   ]
  },
  {
   "cell_type": "markdown",
   "metadata": {},
   "source": [
    "### 7. Has the number of crime decrease  since 2011?"
   ]
  },
  {
   "cell_type": "code",
   "execution_count": 67,
   "metadata": {},
   "outputs": [
    {
     "name": "stdout",
     "output_type": "stream",
     "text": [
      " * sqlite://\n",
      "Done.\n"
     ]
    },
    {
     "data": {
      "text/html": [
       "<table>\n",
       "    <tr>\n",
       "        <th>YEAR</th>\n",
       "        <th>COUNT(primary_type)</th>\n",
       "    </tr>\n",
       "    <tr>\n",
       "        <td>2011</td>\n",
       "        <td>25</td>\n",
       "    </tr>\n",
       "    <tr>\n",
       "        <td>2012</td>\n",
       "        <td>30</td>\n",
       "    </tr>\n",
       "    <tr>\n",
       "        <td>2013</td>\n",
       "        <td>24</td>\n",
       "    </tr>\n",
       "    <tr>\n",
       "        <td>2014</td>\n",
       "        <td>25</td>\n",
       "    </tr>\n",
       "    <tr>\n",
       "        <td>2015</td>\n",
       "        <td>23</td>\n",
       "    </tr>\n",
       "    <tr>\n",
       "        <td>2016</td>\n",
       "        <td>26</td>\n",
       "    </tr>\n",
       "    <tr>\n",
       "        <td>2017</td>\n",
       "        <td>30</td>\n",
       "    </tr>\n",
       "    <tr>\n",
       "        <td>2018</td>\n",
       "        <td>3</td>\n",
       "    </tr>\n",
       "</table>"
      ],
      "text/plain": [
       "[(2011, 25),\n",
       " (2012, 30),\n",
       " (2013, 24),\n",
       " (2014, 25),\n",
       " (2015, 23),\n",
       " (2016, 26),\n",
       " (2017, 30),\n",
       " (2018, 3)]"
      ]
     },
     "execution_count": 67,
     "metadata": {},
     "output_type": "execute_result"
    }
   ],
   "source": [
    "%%sql\n",
    "SELECT year, COUNT(primary_type) FROM chicago_crime_data\n",
    "GROUP BY year\n",
    "HAVING year >= 2011"
   ]
  }
 ],
 "metadata": {
  "kernelspec": {
   "display_name": "Python 3",
   "language": "python",
   "name": "python3"
  },
  "language_info": {
   "codemirror_mode": {
    "name": "ipython",
    "version": 3
   },
   "file_extension": ".py",
   "mimetype": "text/x-python",
   "name": "python",
   "nbconvert_exporter": "python",
   "pygments_lexer": "ipython3",
   "version": "3.7.3"
  }
 },
 "nbformat": 4,
 "nbformat_minor": 2
}
